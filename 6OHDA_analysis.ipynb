{
 "cells": [
  {
   "cell_type": "code",
   "execution_count": 16,
   "metadata": {},
   "outputs": [],
   "source": [
    "import pandas as pd\n",
    "import numpy as np\n",
    "import seaborn as sns"
   ]
  },
  {
   "cell_type": "code",
   "execution_count": 81,
   "metadata": {},
   "outputs": [],
   "source": [
    "file_dir = '/mnt/data/hernandom/Microscopy_Data/Histology_of_tail_lesions/FromLaura/summary_df_all_cohorts_040619.csv'"
   ]
  },
  {
   "cell_type": "code",
   "execution_count": 82,
   "metadata": {},
   "outputs": [],
   "source": [
    "df = pd.read_csv(file_dir, index_col=0)"
   ]
  },
  {
   "cell_type": "code",
   "execution_count": 83,
   "metadata": {},
   "outputs": [
    {
     "data": {
      "text/plain": [
       "array(['PV01', 'PV02', 'PV03', 'PV04', 'PV05', 'PV06', 'PV08', 'SF04',\n",
       "       'SF06', 'SF07', 'SF08', 'SF09'], dtype=object)"
      ]
     },
     "execution_count": 83,
     "metadata": {},
     "output_type": "execute_result"
    }
   ],
   "source": [
    "df['mouse id'].unique()"
   ]
  },
  {
   "cell_type": "code",
   "execution_count": 84,
   "metadata": {},
   "outputs": [
    {
     "data": {
      "text/html": [
       "<div>\n",
       "<style scoped>\n",
       "    .dataframe tbody tr th:only-of-type {\n",
       "        vertical-align: middle;\n",
       "    }\n",
       "\n",
       "    .dataframe tbody tr th {\n",
       "        vertical-align: top;\n",
       "    }\n",
       "\n",
       "    .dataframe thead th {\n",
       "        text-align: right;\n",
       "    }\n",
       "</style>\n",
       "<table border=\"1\" class=\"dataframe\">\n",
       "  <thead>\n",
       "    <tr style=\"text-align: right;\">\n",
       "      <th></th>\n",
       "      <th>slice id</th>\n",
       "      <th>left background sub</th>\n",
       "      <th>right background sub</th>\n",
       "      <th>mouse id</th>\n",
       "      <th>ctx background sub</th>\n",
       "      <th>average intensity</th>\n",
       "      <th>experimental_group</th>\n",
       "      <th>striatum intensity background sub</th>\n",
       "      <th>average ctx sub</th>\n",
       "      <th>average striatum</th>\n",
       "    </tr>\n",
       "  </thead>\n",
       "  <tbody>\n",
       "    <tr>\n",
       "      <td>0</td>\n",
       "      <td>anterior</td>\n",
       "      <td>2822.0</td>\n",
       "      <td>2927.0</td>\n",
       "      <td>PV01</td>\n",
       "      <td>218.0</td>\n",
       "      <td>6.811538</td>\n",
       "      <td>OHDA_3</td>\n",
       "      <td>2874.5</td>\n",
       "      <td>12.185780</td>\n",
       "      <td>13.185780</td>\n",
       "    </tr>\n",
       "    <tr>\n",
       "      <td>1</td>\n",
       "      <td>anterior</td>\n",
       "      <td>2802.0</td>\n",
       "      <td>3341.0</td>\n",
       "      <td>PV01</td>\n",
       "      <td>231.0</td>\n",
       "      <td>7.048387</td>\n",
       "      <td>OHDA_3</td>\n",
       "      <td>3071.5</td>\n",
       "      <td>12.296537</td>\n",
       "      <td>13.296537</td>\n",
       "    </tr>\n",
       "    <tr>\n",
       "      <td>2</td>\n",
       "      <td>anterior</td>\n",
       "      <td>2968.0</td>\n",
       "      <td>2916.0</td>\n",
       "      <td>PV01</td>\n",
       "      <td>238.0</td>\n",
       "      <td>6.611247</td>\n",
       "      <td>OHDA_3</td>\n",
       "      <td>2942.0</td>\n",
       "      <td>11.361345</td>\n",
       "      <td>12.361345</td>\n",
       "    </tr>\n",
       "    <tr>\n",
       "      <td>3</td>\n",
       "      <td>tail</td>\n",
       "      <td>575.0</td>\n",
       "      <td>556.0</td>\n",
       "      <td>PV01</td>\n",
       "      <td>201.0</td>\n",
       "      <td>0.979839</td>\n",
       "      <td>OHDA_3</td>\n",
       "      <td>565.5</td>\n",
       "      <td>1.813433</td>\n",
       "      <td>2.813433</td>\n",
       "    </tr>\n",
       "    <tr>\n",
       "      <td>4</td>\n",
       "      <td>anterior</td>\n",
       "      <td>2411.0</td>\n",
       "      <td>2529.0</td>\n",
       "      <td>PV01</td>\n",
       "      <td>217.0</td>\n",
       "      <td>5.747449</td>\n",
       "      <td>OHDA_3</td>\n",
       "      <td>2470.0</td>\n",
       "      <td>10.382488</td>\n",
       "      <td>11.382488</td>\n",
       "    </tr>\n",
       "    <tr>\n",
       "      <td>...</td>\n",
       "      <td>...</td>\n",
       "      <td>...</td>\n",
       "      <td>...</td>\n",
       "      <td>...</td>\n",
       "      <td>...</td>\n",
       "      <td>...</td>\n",
       "      <td>...</td>\n",
       "      <td>...</td>\n",
       "      <td>...</td>\n",
       "      <td>...</td>\n",
       "    </tr>\n",
       "    <tr>\n",
       "      <td>110</td>\n",
       "      <td>anterior</td>\n",
       "      <td>3468.0</td>\n",
       "      <td>3278.0</td>\n",
       "      <td>SF09</td>\n",
       "      <td>213.0</td>\n",
       "      <td>8.207792</td>\n",
       "      <td>OHDA_3</td>\n",
       "      <td>3373.0</td>\n",
       "      <td>14.835681</td>\n",
       "      <td>15.835681</td>\n",
       "    </tr>\n",
       "    <tr>\n",
       "      <td>111</td>\n",
       "      <td>tail</td>\n",
       "      <td>516.0</td>\n",
       "      <td>388.0</td>\n",
       "      <td>SF09</td>\n",
       "      <td>197.0</td>\n",
       "      <td>0.687332</td>\n",
       "      <td>OHDA_3</td>\n",
       "      <td>452.0</td>\n",
       "      <td>1.294416</td>\n",
       "      <td>2.294416</td>\n",
       "    </tr>\n",
       "    <tr>\n",
       "      <td>112</td>\n",
       "      <td>anterior</td>\n",
       "      <td>724.0</td>\n",
       "      <td>1021.0</td>\n",
       "      <td>SF09</td>\n",
       "      <td>235.0</td>\n",
       "      <td>1.562500</td>\n",
       "      <td>OHDA_3</td>\n",
       "      <td>872.5</td>\n",
       "      <td>2.712766</td>\n",
       "      <td>3.712766</td>\n",
       "    </tr>\n",
       "    <tr>\n",
       "      <td>113</td>\n",
       "      <td>tail</td>\n",
       "      <td>241.0</td>\n",
       "      <td>244.0</td>\n",
       "      <td>SF09</td>\n",
       "      <td>244.0</td>\n",
       "      <td>-0.003597</td>\n",
       "      <td>OHDA_3</td>\n",
       "      <td>242.5</td>\n",
       "      <td>-0.006148</td>\n",
       "      <td>0.993852</td>\n",
       "    </tr>\n",
       "    <tr>\n",
       "      <td>114</td>\n",
       "      <td>anterior</td>\n",
       "      <td>3109.0</td>\n",
       "      <td>3188.0</td>\n",
       "      <td>SF09</td>\n",
       "      <td>321.0</td>\n",
       "      <td>5.735294</td>\n",
       "      <td>OHDA_3</td>\n",
       "      <td>3148.5</td>\n",
       "      <td>8.808411</td>\n",
       "      <td>9.808411</td>\n",
       "    </tr>\n",
       "  </tbody>\n",
       "</table>\n",
       "<p>115 rows × 10 columns</p>\n",
       "</div>"
      ],
      "text/plain": [
       "     slice id  left background sub  right background sub mouse id  \\\n",
       "0    anterior               2822.0                2927.0     PV01   \n",
       "1    anterior               2802.0                3341.0     PV01   \n",
       "2    anterior               2968.0                2916.0     PV01   \n",
       "3        tail                575.0                 556.0     PV01   \n",
       "4    anterior               2411.0                2529.0     PV01   \n",
       "..        ...                  ...                   ...      ...   \n",
       "110  anterior               3468.0                3278.0     SF09   \n",
       "111      tail                516.0                 388.0     SF09   \n",
       "112  anterior                724.0                1021.0     SF09   \n",
       "113      tail                241.0                 244.0     SF09   \n",
       "114  anterior               3109.0                3188.0     SF09   \n",
       "\n",
       "     ctx background sub  average intensity experimental_group  \\\n",
       "0                 218.0           6.811538             OHDA_3   \n",
       "1                 231.0           7.048387             OHDA_3   \n",
       "2                 238.0           6.611247             OHDA_3   \n",
       "3                 201.0           0.979839             OHDA_3   \n",
       "4                 217.0           5.747449             OHDA_3   \n",
       "..                  ...                ...                ...   \n",
       "110               213.0           8.207792             OHDA_3   \n",
       "111               197.0           0.687332             OHDA_3   \n",
       "112               235.0           1.562500             OHDA_3   \n",
       "113               244.0          -0.003597             OHDA_3   \n",
       "114               321.0           5.735294             OHDA_3   \n",
       "\n",
       "     striatum intensity background sub  average ctx sub  average striatum  \n",
       "0                               2874.5        12.185780         13.185780  \n",
       "1                               3071.5        12.296537         13.296537  \n",
       "2                               2942.0        11.361345         12.361345  \n",
       "3                                565.5         1.813433          2.813433  \n",
       "4                               2470.0        10.382488         11.382488  \n",
       "..                                 ...              ...               ...  \n",
       "110                             3373.0        14.835681         15.835681  \n",
       "111                              452.0         1.294416          2.294416  \n",
       "112                              872.5         2.712766          3.712766  \n",
       "113                              242.5        -0.006148          0.993852  \n",
       "114                             3148.5         8.808411          9.808411  \n",
       "\n",
       "[115 rows x 10 columns]"
      ]
     },
     "execution_count": 84,
     "metadata": {},
     "output_type": "execute_result"
    }
   ],
   "source": [
    "df"
   ]
  },
  {
   "cell_type": "code",
   "execution_count": 67,
   "metadata": {},
   "outputs": [],
   "source": [
    "mice_to_keep = ['C01', 'C02', 'C03', 'PV01', 'PV02', 'PV03', 'PV04',\n",
    "                'PV05', 'PV06', 'PV08', 'SF04', 'SF06', 'SF07', 'SF09']"
   ]
  },
  {
   "cell_type": "code",
   "execution_count": 68,
   "metadata": {},
   "outputs": [],
   "source": [
    "df = df[df['mouse id'].isin(mice_to_keep)]"
   ]
  },
  {
   "cell_type": "code",
   "execution_count": 69,
   "metadata": {},
   "outputs": [
    {
     "data": {
      "text/plain": [
       "array(['OHDA_3', 'control_3'], dtype=object)"
      ]
     },
     "execution_count": 69,
     "metadata": {},
     "output_type": "execute_result"
    }
   ],
   "source": [
    "df.experimental_group.unique()"
   ]
  },
  {
   "cell_type": "code",
   "execution_count": 70,
   "metadata": {},
   "outputs": [
    {
     "data": {
      "text/html": [
       "<div>\n",
       "<style scoped>\n",
       "    .dataframe tbody tr th:only-of-type {\n",
       "        vertical-align: middle;\n",
       "    }\n",
       "\n",
       "    .dataframe tbody tr th {\n",
       "        vertical-align: top;\n",
       "    }\n",
       "\n",
       "    .dataframe thead th {\n",
       "        text-align: right;\n",
       "    }\n",
       "</style>\n",
       "<table border=\"1\" class=\"dataframe\">\n",
       "  <thead>\n",
       "    <tr style=\"text-align: right;\">\n",
       "      <th></th>\n",
       "      <th>slice id</th>\n",
       "      <th>left background sub</th>\n",
       "      <th>right background sub</th>\n",
       "      <th>mouse id</th>\n",
       "      <th>ctx background sub</th>\n",
       "      <th>average intensity</th>\n",
       "      <th>experimental_group</th>\n",
       "      <th>striatum intensity background sub</th>\n",
       "      <th>average ctx sub</th>\n",
       "      <th>average striatum</th>\n",
       "    </tr>\n",
       "  </thead>\n",
       "  <tbody>\n",
       "    <tr>\n",
       "      <td>0</td>\n",
       "      <td>anterior</td>\n",
       "      <td>2822.0</td>\n",
       "      <td>2927.0</td>\n",
       "      <td>PV01</td>\n",
       "      <td>218.0</td>\n",
       "      <td>6.811538</td>\n",
       "      <td>OHDA_3</td>\n",
       "      <td>2874.5</td>\n",
       "      <td>12.185780</td>\n",
       "      <td>13.185780</td>\n",
       "    </tr>\n",
       "    <tr>\n",
       "      <td>1</td>\n",
       "      <td>anterior</td>\n",
       "      <td>2802.0</td>\n",
       "      <td>3341.0</td>\n",
       "      <td>PV01</td>\n",
       "      <td>231.0</td>\n",
       "      <td>7.048387</td>\n",
       "      <td>OHDA_3</td>\n",
       "      <td>3071.5</td>\n",
       "      <td>12.296537</td>\n",
       "      <td>13.296537</td>\n",
       "    </tr>\n",
       "    <tr>\n",
       "      <td>2</td>\n",
       "      <td>anterior</td>\n",
       "      <td>2968.0</td>\n",
       "      <td>2916.0</td>\n",
       "      <td>PV01</td>\n",
       "      <td>238.0</td>\n",
       "      <td>6.611247</td>\n",
       "      <td>OHDA_3</td>\n",
       "      <td>2942.0</td>\n",
       "      <td>11.361345</td>\n",
       "      <td>12.361345</td>\n",
       "    </tr>\n",
       "    <tr>\n",
       "      <td>3</td>\n",
       "      <td>tail</td>\n",
       "      <td>575.0</td>\n",
       "      <td>556.0</td>\n",
       "      <td>PV01</td>\n",
       "      <td>201.0</td>\n",
       "      <td>0.979839</td>\n",
       "      <td>OHDA_3</td>\n",
       "      <td>565.5</td>\n",
       "      <td>1.813433</td>\n",
       "      <td>2.813433</td>\n",
       "    </tr>\n",
       "    <tr>\n",
       "      <td>4</td>\n",
       "      <td>anterior</td>\n",
       "      <td>2411.0</td>\n",
       "      <td>2529.0</td>\n",
       "      <td>PV01</td>\n",
       "      <td>217.0</td>\n",
       "      <td>5.747449</td>\n",
       "      <td>OHDA_3</td>\n",
       "      <td>2470.0</td>\n",
       "      <td>10.382488</td>\n",
       "      <td>11.382488</td>\n",
       "    </tr>\n",
       "    <tr>\n",
       "      <td>...</td>\n",
       "      <td>...</td>\n",
       "      <td>...</td>\n",
       "      <td>...</td>\n",
       "      <td>...</td>\n",
       "      <td>...</td>\n",
       "      <td>...</td>\n",
       "      <td>...</td>\n",
       "      <td>...</td>\n",
       "      <td>...</td>\n",
       "      <td>...</td>\n",
       "    </tr>\n",
       "    <tr>\n",
       "      <td>110</td>\n",
       "      <td>anterior</td>\n",
       "      <td>3468.0</td>\n",
       "      <td>3278.0</td>\n",
       "      <td>SF09</td>\n",
       "      <td>213.0</td>\n",
       "      <td>8.207792</td>\n",
       "      <td>OHDA_3</td>\n",
       "      <td>3373.0</td>\n",
       "      <td>14.835681</td>\n",
       "      <td>15.835681</td>\n",
       "    </tr>\n",
       "    <tr>\n",
       "      <td>111</td>\n",
       "      <td>tail</td>\n",
       "      <td>516.0</td>\n",
       "      <td>388.0</td>\n",
       "      <td>SF09</td>\n",
       "      <td>197.0</td>\n",
       "      <td>0.687332</td>\n",
       "      <td>OHDA_3</td>\n",
       "      <td>452.0</td>\n",
       "      <td>1.294416</td>\n",
       "      <td>2.294416</td>\n",
       "    </tr>\n",
       "    <tr>\n",
       "      <td>112</td>\n",
       "      <td>anterior</td>\n",
       "      <td>724.0</td>\n",
       "      <td>1021.0</td>\n",
       "      <td>SF09</td>\n",
       "      <td>235.0</td>\n",
       "      <td>1.562500</td>\n",
       "      <td>OHDA_3</td>\n",
       "      <td>872.5</td>\n",
       "      <td>2.712766</td>\n",
       "      <td>3.712766</td>\n",
       "    </tr>\n",
       "    <tr>\n",
       "      <td>113</td>\n",
       "      <td>tail</td>\n",
       "      <td>241.0</td>\n",
       "      <td>244.0</td>\n",
       "      <td>SF09</td>\n",
       "      <td>244.0</td>\n",
       "      <td>-0.003597</td>\n",
       "      <td>OHDA_3</td>\n",
       "      <td>242.5</td>\n",
       "      <td>-0.006148</td>\n",
       "      <td>0.993852</td>\n",
       "    </tr>\n",
       "    <tr>\n",
       "      <td>114</td>\n",
       "      <td>anterior</td>\n",
       "      <td>3109.0</td>\n",
       "      <td>3188.0</td>\n",
       "      <td>SF09</td>\n",
       "      <td>321.0</td>\n",
       "      <td>5.735294</td>\n",
       "      <td>OHDA_3</td>\n",
       "      <td>3148.5</td>\n",
       "      <td>8.808411</td>\n",
       "      <td>9.808411</td>\n",
       "    </tr>\n",
       "  </tbody>\n",
       "</table>\n",
       "<p>106 rows × 10 columns</p>\n",
       "</div>"
      ],
      "text/plain": [
       "     slice id  left background sub  right background sub mouse id  \\\n",
       "0    anterior               2822.0                2927.0     PV01   \n",
       "1    anterior               2802.0                3341.0     PV01   \n",
       "2    anterior               2968.0                2916.0     PV01   \n",
       "3        tail                575.0                 556.0     PV01   \n",
       "4    anterior               2411.0                2529.0     PV01   \n",
       "..        ...                  ...                   ...      ...   \n",
       "110  anterior               3468.0                3278.0     SF09   \n",
       "111      tail                516.0                 388.0     SF09   \n",
       "112  anterior                724.0                1021.0     SF09   \n",
       "113      tail                241.0                 244.0     SF09   \n",
       "114  anterior               3109.0                3188.0     SF09   \n",
       "\n",
       "     ctx background sub  average intensity experimental_group  \\\n",
       "0                 218.0           6.811538             OHDA_3   \n",
       "1                 231.0           7.048387             OHDA_3   \n",
       "2                 238.0           6.611247             OHDA_3   \n",
       "3                 201.0           0.979839             OHDA_3   \n",
       "4                 217.0           5.747449             OHDA_3   \n",
       "..                  ...                ...                ...   \n",
       "110               213.0           8.207792             OHDA_3   \n",
       "111               197.0           0.687332             OHDA_3   \n",
       "112               235.0           1.562500             OHDA_3   \n",
       "113               244.0          -0.003597             OHDA_3   \n",
       "114               321.0           5.735294             OHDA_3   \n",
       "\n",
       "     striatum intensity background sub  average ctx sub  average striatum  \n",
       "0                               2874.5        12.185780         13.185780  \n",
       "1                               3071.5        12.296537         13.296537  \n",
       "2                               2942.0        11.361345         12.361345  \n",
       "3                                565.5         1.813433          2.813433  \n",
       "4                               2470.0        10.382488         11.382488  \n",
       "..                                 ...              ...               ...  \n",
       "110                             3373.0        14.835681         15.835681  \n",
       "111                              452.0         1.294416          2.294416  \n",
       "112                              872.5         2.712766          3.712766  \n",
       "113                              242.5        -0.006148          0.993852  \n",
       "114                             3148.5         8.808411          9.808411  \n",
       "\n",
       "[106 rows x 10 columns]"
      ]
     },
     "execution_count": 70,
     "metadata": {},
     "output_type": "execute_result"
    }
   ],
   "source": [
    "df"
   ]
  },
  {
   "cell_type": "code",
   "execution_count": 74,
   "metadata": {},
   "outputs": [
    {
     "data": {
      "text/plain": [
       "0      0.000000e+00\n",
       "1     -1.776357e-15\n",
       "2      0.000000e+00\n",
       "3      4.440892e-16\n",
       "4     -1.776357e-15\n",
       "           ...     \n",
       "110   -1.776357e-15\n",
       "111    0.000000e+00\n",
       "112    0.000000e+00\n",
       "113    0.000000e+00\n",
       "114    0.000000e+00\n",
       "Length: 106, dtype: float64"
      ]
     },
     "execution_count": 74,
     "metadata": {},
     "output_type": "execute_result"
    }
   ],
   "source": [
    "df['average striatum'] - df['striatum intensity background sub'] / df['ctx background sub']"
   ]
  },
  {
   "cell_type": "code",
   "execution_count": 71,
   "metadata": {},
   "outputs": [
    {
     "data": {
      "text/plain": [
       "<seaborn.axisgrid.FacetGrid at 0x7f1d5ec2e8d0>"
      ]
     },
     "execution_count": 71,
     "metadata": {},
     "output_type": "execute_result"
    },
    {
     "data": {
      "image/png": "[encoded data removed]",
      "text/plain": [
       "<Figure size 720x360 with 2 Axes>"
      ]
     },
     "metadata": {
      "needs_background": "light"
     },
     "output_type": "display_data"
    }
   ],
   "source": [
    "sns.catplot(data=df, col='slice id', y='average striatum',\n",
    "            x='experimental_group')"
   ]
  },
  {
   "cell_type": "code",
   "execution_count": 72,
   "metadata": {},
   "outputs": [],
   "source": [
    "# normalized version\n",
    "cont_ant_avg = np.mean(df[np.logical_and(df.experimental_group == 'control_3',\n",
    "                                         df['slice id'] == 'anterior')]['average striatum'])\n",
    "\n",
    "cont_tail_avg = np.mean(df[np.logical_and(df.experimental_group == 'control_3',\n",
    "                                         df['slice id'] == 'tail')]['average striatum'])"
   ]
  },
  {
   "cell_type": "code",
   "execution_count": 51,
   "metadata": {},
   "outputs": [
    {
     "name": "stderr",
     "output_type": "stream",
     "text": [
      "/home/hernandom/.conda/envs/behav/lib/python3.7/site-packages/pandas/core/indexing.py:494: SettingWithCopyWarning: \n",
      "A value is trying to be set on a copy of a slice from a DataFrame.\n",
      "Try using .loc[row_indexer,col_indexer] = value instead\n",
      "\n",
      "See the caveats in the documentation: http://pandas.pydata.org/pandas-docs/stable/user_guide/indexing.html#returning-a-view-versus-a-copy\n",
      "  self.obj[item] = s\n"
     ]
    }
   ],
   "source": [
    "for i in df.index:\n",
    "    if df.loc[i, 'slice id'] == 'anterior':\n",
    "        df.loc[i, 'normalized_average_intensity'] = df.loc[i, 'average striatum'] / cont_ant_avg\n",
    "    if df.loc[i, 'slice id'] == 'tail':\n",
    "        df.loc[i, 'normalized_average_intensity'] = df.loc[i, 'average striatum'] / cont_tail_avg "
   ]
  },
  {
   "cell_type": "code",
   "execution_count": 52,
   "metadata": {},
   "outputs": [
    {
     "data": {
      "text/plain": [
       "<seaborn.axisgrid.FacetGrid at 0x7f1d5f44c710>"
      ]
     },
     "execution_count": 52,
     "metadata": {},
     "output_type": "execute_result"
    },
    {
     "data": {
      "image/png": "[encoded data removed]",
      "text/plain": [
       "<Figure size 720x360 with 2 Axes>"
      ]
     },
     "metadata": {
      "needs_background": "light"
     },
     "output_type": "display_data"
    },
    {
     "data": {
      "image/png": "[encoded data removed]",
      "text/plain": [
       "<Figure size 720x360 with 2 Axes>"
      ]
     },
     "metadata": {
      "needs_background": "light"
     },
     "output_type": "display_data"
    }
   ],
   "source": [
    "sns.catplot(data=df, col='slice id', y='normalized_average_intensity',\n",
    "            x='experimental_group')\n",
    "sns.catplot(data=df, col='slice id', y='normalized_average_intensity',\n",
    "            x='experimental_group', kind='point')"
   ]
  },
  {
   "cell_type": "code",
   "execution_count": 53,
   "metadata": {},
   "outputs": [
    {
     "data": {
      "text/plain": [
       "61    1.442953\n",
       "62    0.712154\n",
       "64    1.203093\n",
       "67    2.156863\n",
       "68    1.817330\n",
       "72    3.672297\n",
       "75    2.535469\n",
       "81    1.987310\n",
       "84    4.163391\n",
       "85    0.966090\n",
       "88    1.320482\n",
       "Name: average intensity, dtype: float64"
      ]
     },
     "execution_count": 53,
     "metadata": {},
     "output_type": "execute_result"
    }
   ],
   "source": [
    "df[np.logical_and(df.experimental_group == 'control_3',\n",
    "                                         df['slice id'] == 'tail')]['average intensity']"
   ]
  },
  {
   "cell_type": "code",
   "execution_count": 77,
   "metadata": {},
   "outputs": [
    {
     "data": {
      "text/plain": [
       "slice id                                  tail\n",
       "left background sub                        732\n",
       "right background sub                       542\n",
       "mouse id                                  SF04\n",
       "ctx background sub                         303\n",
       "average intensity                     0.712154\n",
       "experimental_group                   control_3\n",
       "striatum intensity background sub          637\n",
       "average ctx sub                        1.10231\n",
       "average striatum                       2.10231\n",
       "Name: 62, dtype: object"
      ]
     },
     "execution_count": 77,
     "metadata": {},
     "output_type": "execute_result"
    }
   ],
   "source": [
    "df.loc[62]"
   ]
  },
  {
   "cell_type": "code",
   "execution_count": 78,
   "metadata": {},
   "outputs": [
    {
     "data": {
      "text/plain": [
       "slice id                                  tail\n",
       "left background sub                       1630\n",
       "right background sub                      2167\n",
       "mouse id                                  SF04\n",
       "ctx background sub                         268\n",
       "average intensity                       3.6723\n",
       "experimental_group                   control_3\n",
       "striatum intensity background sub       1898.5\n",
       "average ctx sub                        6.08396\n",
       "average striatum                       7.08396\n",
       "Name: 72, dtype: object"
      ]
     },
     "execution_count": 78,
     "metadata": {},
     "output_type": "execute_result"
    }
   ],
   "source": [
    "df.loc[72]"
   ]
  },
  {
   "cell_type": "code",
   "execution_count": 80,
   "metadata": {},
   "outputs": [
    {
     "data": {
      "text/html": [
       "<div>\n",
       "<style scoped>\n",
       "    .dataframe tbody tr th:only-of-type {\n",
       "        vertical-align: middle;\n",
       "    }\n",
       "\n",
       "    .dataframe tbody tr th {\n",
       "        vertical-align: top;\n",
       "    }\n",
       "\n",
       "    .dataframe thead th {\n",
       "        text-align: right;\n",
       "    }\n",
       "</style>\n",
       "<table border=\"1\" class=\"dataframe\">\n",
       "  <thead>\n",
       "    <tr style=\"text-align: right;\">\n",
       "      <th></th>\n",
       "      <th>slice id</th>\n",
       "      <th>left background sub</th>\n",
       "      <th>right background sub</th>\n",
       "      <th>mouse id</th>\n",
       "      <th>ctx background sub</th>\n",
       "      <th>average intensity</th>\n",
       "      <th>experimental_group</th>\n",
       "      <th>striatum intensity background sub</th>\n",
       "      <th>average ctx sub</th>\n",
       "      <th>average striatum</th>\n",
       "    </tr>\n",
       "  </thead>\n",
       "  <tbody>\n",
       "    <tr>\n",
       "      <td>81</td>\n",
       "      <td>tail</td>\n",
       "      <td>984.0</td>\n",
       "      <td>1014.0</td>\n",
       "      <td>SF06</td>\n",
       "      <td>216.0</td>\n",
       "      <td>1.987310</td>\n",
       "      <td>control_3</td>\n",
       "      <td>999.00</td>\n",
       "      <td>3.625000</td>\n",
       "      <td>4.625000</td>\n",
       "    </tr>\n",
       "    <tr>\n",
       "      <td>84</td>\n",
       "      <td>tail</td>\n",
       "      <td>2019.0</td>\n",
       "      <td>1838.0</td>\n",
       "      <td>SF06</td>\n",
       "      <td>234.0</td>\n",
       "      <td>4.163391</td>\n",
       "      <td>control_3</td>\n",
       "      <td>1928.50</td>\n",
       "      <td>7.241453</td>\n",
       "      <td>8.241453</td>\n",
       "    </tr>\n",
       "    <tr>\n",
       "      <td>85</td>\n",
       "      <td>tail</td>\n",
       "      <td>534.0</td>\n",
       "      <td>588.5</td>\n",
       "      <td>SF06</td>\n",
       "      <td>198.0</td>\n",
       "      <td>0.966090</td>\n",
       "      <td>control_3</td>\n",
       "      <td>561.25</td>\n",
       "      <td>1.834596</td>\n",
       "      <td>2.834596</td>\n",
       "    </tr>\n",
       "    <tr>\n",
       "      <td>88</td>\n",
       "      <td>tail</td>\n",
       "      <td>751.0</td>\n",
       "      <td>831.0</td>\n",
       "      <td>SF06</td>\n",
       "      <td>243.0</td>\n",
       "      <td>1.320482</td>\n",
       "      <td>control_3</td>\n",
       "      <td>791.00</td>\n",
       "      <td>2.255144</td>\n",
       "      <td>3.255144</td>\n",
       "    </tr>\n",
       "  </tbody>\n",
       "</table>\n",
       "</div>"
      ],
      "text/plain": [
       "   slice id  left background sub  right background sub mouse id  \\\n",
       "81     tail                984.0                1014.0     SF06   \n",
       "84     tail               2019.0                1838.0     SF06   \n",
       "85     tail                534.0                 588.5     SF06   \n",
       "88     tail                751.0                 831.0     SF06   \n",
       "\n",
       "    ctx background sub  average intensity experimental_group  \\\n",
       "81               216.0           1.987310          control_3   \n",
       "84               234.0           4.163391          control_3   \n",
       "85               198.0           0.966090          control_3   \n",
       "88               243.0           1.320482          control_3   \n",
       "\n",
       "    striatum intensity background sub  average ctx sub  average striatum  \n",
       "81                             999.00         3.625000          4.625000  \n",
       "84                            1928.50         7.241453          8.241453  \n",
       "85                             561.25         1.834596          2.834596  \n",
       "88                             791.00         2.255144          3.255144  "
      ]
     },
     "execution_count": 80,
     "metadata": {},
     "output_type": "execute_result"
    }
   ],
   "source": [
    "df[np.logical_and(df['mouse id']=='SF06', df['slice id']=='tail')]"
   ]
  },
  {
   "cell_type": "code",
   "execution_count": null,
   "metadata": {},
   "outputs": [],
   "source": []
  }
 ],
 "metadata": {
  "kernelspec": {
   "display_name": "Python [conda env:.conda-behav] *",
   "language": "python",
   "name": "conda-env-.conda-behav-py"
  },
  "language_info": {
   "codemirror_mode": {
    "name": "ipython",
    "version": 3
   },
   "file_extension": ".py",
   "mimetype": "text/x-python",
   "name": "python",
   "nbconvert_exporter": "python",
   "pygments_lexer": "ipython3",
   "version": "3.7.4"
  }
 },
 "nbformat": 4,
 "nbformat_minor": 2
}
